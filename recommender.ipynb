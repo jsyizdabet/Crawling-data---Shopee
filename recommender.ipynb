{
 "cells": [
  {
   "cell_type": "code",
   "execution_count": null,
   "metadata": {},
   "outputs": [],
   "source": []
  },
  {
   "cell_type": "code",
   "execution_count": 1,
   "metadata": {},
   "outputs": [],
   "source": [
    "#Import libraries\n",
    "import streamlit as st\n",
    "import pandas as pd\n",
    "from gensim import corpora, models, similarities\n",
    "import matplotlib.pyplot as plt\n",
    "import numpy as np"
   ]
  },
  {
   "cell_type": "markdown",
   "metadata": {},
   "source": [
    "Load product data from a CSV file"
   ]
  },
  {
   "cell_type": "code",
   "execution_count": 3,
   "metadata": {},
   "outputs": [
    {
     "name": "stderr",
     "output_type": "stream",
     "text": [
      "2023-12-02 14:46:24.981 WARNING streamlit.runtime.caching.cache_data_api: No runtime found, using MemoryCacheStorageManager\n"
     ]
    }
   ],
   "source": [
    "@st.cache_data\n",
    "def load_data(filename):\n",
    "    df = pd.read_csv(filename)\n",
    "    #df=df.dropna(subset=['image'])\n",
    "    #df=df[df[\"image\"].str.contains(\"nan\")==False]\n",
    "\n",
    "    # Clean the product descriptions by removing non-alphabetic characters and converting to lowercase\n",
    "    df['products_wt'] = df['products_wt'].apply(lambda x: re.sub('[^a-zA-Z]', ' ', x).lower())\n",
    "    return df"
   ]
  },
  {
   "cell_type": "markdown",
   "metadata": {},
   "source": [
    "Preprocess the data and train the TF-IDF model"
   ]
  },
  {
   "cell_type": "code",
   "execution_count": 4,
   "metadata": {},
   "outputs": [
    {
     "name": "stderr",
     "output_type": "stream",
     "text": [
      "2023-12-02 14:46:55.476 WARNING streamlit.runtime.caching.cache_data_api: No runtime found, using MemoryCacheStorageManager\n"
     ]
    }
   ],
   "source": [
    "@st.cache_data\n",
    "def train_model(df):\n",
    "    texts= [[text for text in x.split()] for x in df.products_wt]\n",
    "    texts = [[t.lower() for t in text if not t in ['', ' ', ',', '.', '...', '-',':', ';', '?', '%', '_%' , '(', ')', '+', '/', 'g', 'ml']] for text in  texts] # ký tự đặc biệt\n",
    "    dictionary = corpora.Dictionary(texts)\n",
    "    #dictionary.token2id \n",
    "    corpus = [dictionary.doc2bow(text) for text in texts]\n",
    "    tfidf = models.TfidfModel(corpus)\n",
    "    return df, dictionary, corpus, tfidf"
   ]
  },
  {
   "cell_type": "markdown",
   "metadata": {},
   "source": [
    " Define a function to recommend products based on user input"
   ]
  },
  {
   "cell_type": "code",
   "execution_count": 5,
   "metadata": {},
   "outputs": [],
   "source": [
    "def recommend_products(query, df, dictionary, corpus, tfidf):\n",
    "    \n",
    "    # Preprocess the query and compute its TF-IDF vector\n",
    "    query_bow = dictionary.doc2bow(query.lower().split())\n",
    "    query_tfidf = tfidf[query_bow]\n",
    "\n",
    "    # Compute the cosine similarity between the query and product descriptions\n",
    "    index = similarities.MatrixSimilarity(tfidf[corpus])\n",
    "    results  = index[query_tfidf]\n",
    "    results  = sorted(enumerate(results), key=lambda item: -item[1])[:5]\n",
    "    return results "
   ]
  },
  {
   "cell_type": "code",
   "execution_count": 6,
   "metadata": {},
   "outputs": [],
   "source": [
    "def recommend_products_2(query, df, dictionary, corpus, tfidf):\n",
    "    \n",
    "    # Preprocess the query and compute its TF-IDF vector\n",
    "    query_bow = dictionary.doc2bow(query.lower().split())\n",
    "    query_tfidf = tfidf[query_bow]\n",
    "\n",
    "    # Compute the cosine similarity between the query and product descriptions\n",
    "    index = similarities.MatrixSimilarity(tfidf[corpus])\n",
    "    sims = index[query_tfidf]\n",
    "    # Sort the products by similarity score and return the top results\n",
    "    results = sorted(enumerate(sims), key=lambda x: x[1], reverse=True)[:5]\n",
    "    return results\n"
   ]
  },
  {
   "cell_type": "code",
   "execution_count": 7,
   "metadata": {},
   "outputs": [
    {
     "name": "stderr",
     "output_type": "stream",
     "text": [
      "2023-12-02 14:47:59.224 \n",
      "  \u001b[33m\u001b[1mWarning:\u001b[0m to view this Streamlit app on a browser, run it with the following\n",
      "  command:\n",
      "\n",
      "    streamlit run C:\\Users\\ASUS\\AppData\\Roaming\\Python\\Python310\\site-packages\\ipykernel_launcher.py [ARGUMENTS]\n"
     ]
    }
   ],
   "source": [
    "menu = [\"Business Objective\", \"Content-based Filtering\",\"Collaborative Filtering\"]\n",
    "choice = st.sidebar.selectbox('Menu', menu)"
   ]
  },
  {
   "cell_type": "markdown",
   "metadata": {},
   "source": [
    "Recommend products based on the query"
   ]
  },
  {
   "cell_type": "code",
   "execution_count": 8,
   "metadata": {},
   "outputs": [
    {
     "ename": "RuntimeError",
     "evalue": "Runtime hasn't been created!",
     "output_type": "error",
     "traceback": [
      "\u001b[1;31m---------------------------------------------------------------------------\u001b[0m",
      "\u001b[1;31mFileNotFoundError\u001b[0m                         Traceback (most recent call last)",
      "File \u001b[1;32mc:\\Users\\ASUS\\AppData\\Local\\Programs\\Python\\Python310\\lib\\site-packages\\streamlit\\elements\\image.py:375\u001b[0m, in \u001b[0;36mimage_to_url\u001b[1;34m(image, width, clamp, channels, output_format, image_id)\u001b[0m\n\u001b[0;32m    374\u001b[0m \u001b[39mtry\u001b[39;00m:\n\u001b[1;32m--> 375\u001b[0m     \u001b[39mwith\u001b[39;00m \u001b[39mopen\u001b[39;49m(image, \u001b[39m\"\u001b[39;49m\u001b[39mrb\u001b[39;49m\u001b[39m\"\u001b[39;49m) \u001b[39mas\u001b[39;00m f:\n\u001b[0;32m    376\u001b[0m         image_data \u001b[39m=\u001b[39m f\u001b[39m.\u001b[39mread()\n",
      "\u001b[1;31mFileNotFoundError\u001b[0m: [Errno 2] No such file or directory: 'recommend sys.jpg'",
      "\nDuring handling of the above exception, another exception occurred:\n",
      "\u001b[1;31mRuntimeError\u001b[0m                              Traceback (most recent call last)",
      "\u001b[1;32md:\\Study\\UEL\\HK5\\PHÂN TÍCH DỮ LIỆU WEB\\GROUP5\\recommender.ipynb Cell 12\u001b[0m line \u001b[0;36m1\n\u001b[0;32m      <a href='vscode-notebook-cell:/d%3A/Study/UEL/HK5/PH%C3%82N%20T%C3%8DCH%20D%E1%BB%AE%20LI%E1%BB%86U%20WEB/GROUP5/recommender.ipynb#X16sZmlsZQ%3D%3D?line=1'>2</a>\u001b[0m     st\u001b[39m.\u001b[39msubheader(\u001b[39m\"\u001b[39m\u001b[39mBusiness Objective\u001b[39m\u001b[39m\"\u001b[39m)\n\u001b[0;32m      <a href='vscode-notebook-cell:/d%3A/Study/UEL/HK5/PH%C3%82N%20T%C3%8DCH%20D%E1%BB%AE%20LI%E1%BB%86U%20WEB/GROUP5/recommender.ipynb#X16sZmlsZQ%3D%3D?line=2'>3</a>\u001b[0m     st\u001b[39m.\u001b[39mwrite (\u001b[39m\"\"\"\u001b[39m\u001b[39m###### I.\tWhat is a Recommender System? \u001b[39m\n\u001b[0;32m      <a href='vscode-notebook-cell:/d%3A/Study/UEL/HK5/PH%C3%82N%20T%C3%8DCH%20D%E1%BB%AE%20LI%E1%BB%86U%20WEB/GROUP5/recommender.ipynb#X16sZmlsZQ%3D%3D?line=3'>4</a>\u001b[0m \u001b[39mA recommender system is a system that helps customers/users discover products or services they may like. It is like a salesman of a company who knows what a customer might like based on their history and preferences.\u001b[39m\n\u001b[0;32m      <a href='vscode-notebook-cell:/d%3A/Study/UEL/HK5/PH%C3%82N%20T%C3%8DCH%20D%E1%BB%AE%20LI%E1%BB%86U%20WEB/GROUP5/recommender.ipynb#X16sZmlsZQ%3D%3D?line=4'>5</a>\u001b[0m \u001b[39mTypes of Recommender Systems\u001b[39m\n\u001b[1;32m   (...)\u001b[0m\n\u001b[0;32m      <a href='vscode-notebook-cell:/d%3A/Study/UEL/HK5/PH%C3%82N%20T%C3%8DCH%20D%E1%BB%AE%20LI%E1%BB%86U%20WEB/GROUP5/recommender.ipynb#X16sZmlsZQ%3D%3D?line=7'>8</a>\u001b[0m \u001b[39m2) Collaborative Filtering\u001b[39m\n\u001b[0;32m      <a href='vscode-notebook-cell:/d%3A/Study/UEL/HK5/PH%C3%82N%20T%C3%8DCH%20D%E1%BB%AE%20LI%E1%BB%86U%20WEB/GROUP5/recommender.ipynb#X16sZmlsZQ%3D%3D?line=8'>9</a>\u001b[0m \u001b[39mThe collaborative filtering recommendation technique depends on finding similar users to a target user to make personalized recommendations. Collaborative filtering recommen,der systems do not require item metadata like content-based recommendation systems. It relies solely on past user-item interactions to render new recommendations\u001b[39m\u001b[39m\"\"\"\u001b[39m)  \n\u001b[1;32m---> <a href='vscode-notebook-cell:/d%3A/Study/UEL/HK5/PH%C3%82N%20T%C3%8DCH%20D%E1%BB%AE%20LI%E1%BB%86U%20WEB/GROUP5/recommender.ipynb#X16sZmlsZQ%3D%3D?line=9'>10</a>\u001b[0m     st\u001b[39m.\u001b[39;49mimage(\u001b[39m\"\u001b[39;49m\u001b[39mrecommend sys.jpg\u001b[39;49m\u001b[39m\"\u001b[39;49m) \n\u001b[0;32m     <a href='vscode-notebook-cell:/d%3A/Study/UEL/HK5/PH%C3%82N%20T%C3%8DCH%20D%E1%BB%AE%20LI%E1%BB%86U%20WEB/GROUP5/recommender.ipynb#X16sZmlsZQ%3D%3D?line=10'>11</a>\u001b[0m     st\u001b[39m.\u001b[39mwrite (\u001b[39m\"\"\"\u001b[39m\u001b[39m###### II.\tBussiness Objective\u001b[39m\n\u001b[0;32m     <a href='vscode-notebook-cell:/d%3A/Study/UEL/HK5/PH%C3%82N%20T%C3%8DCH%20D%E1%BB%AE%20LI%E1%BB%86U%20WEB/GROUP5/recommender.ipynb#X16sZmlsZQ%3D%3D?line=11'>12</a>\u001b[0m \u001b[39mShopee is the leading e-commerce platform in Southeast Asia and Taiwan. Launched in 2015, the Shopee commerce platform was built to provide users with an easy, safe and fast experience when shopping online through a strong payment support and operating system, shopee.vn is the top 1 e-commerce website in Vietnam and Southeast Asia.\u001b[39m\n\u001b[0;32m     <a href='vscode-notebook-cell:/d%3A/Study/UEL/HK5/PH%C3%82N%20T%C3%8DCH%20D%E1%BB%AE%20LI%E1%BB%86U%20WEB/GROUP5/recommender.ipynb#X16sZmlsZQ%3D%3D?line=12'>13</a>\u001b[0m \u001b[39mShoppee wants to launch the first trial Recommend sys system on men\u001b[39m\u001b[39m'\u001b[39m\u001b[39ms fashion category\u001b[39m\n\u001b[0;32m     <a href='vscode-notebook-cell:/d%3A/Study/UEL/HK5/PH%C3%82N%20T%C3%8DCH%20D%E1%BB%AE%20LI%E1%BB%86U%20WEB/GROUP5/recommender.ipynb#X16sZmlsZQ%3D%3D?line=13'>14</a>\u001b[0m \u001b[39m\"\"\"\u001b[39m)\n\u001b[0;32m     <a href='vscode-notebook-cell:/d%3A/Study/UEL/HK5/PH%C3%82N%20T%C3%8DCH%20D%E1%BB%AE%20LI%E1%BB%86U%20WEB/GROUP5/recommender.ipynb#X16sZmlsZQ%3D%3D?line=14'>15</a>\u001b[0m     st\u001b[39m.\u001b[39mmarkdown(\u001b[39m\"\u001b[39m\u001b[39m[Link to  Shoppe app](https://shopee.vn/Th\u001b[39m\u001b[39m%E\u001b[39;00m\u001b[39m1\u001b[39m\u001b[39m%\u001b[39m\u001b[39mBB\u001b[39m\u001b[39m%\u001b[39m\u001b[39m9Di-Trang-Nam-cat.11035567/)\u001b[39m\u001b[39m\"\u001b[39m)\n",
      "File \u001b[1;32mc:\\Users\\ASUS\\AppData\\Local\\Programs\\Python\\Python310\\lib\\site-packages\\streamlit\\runtime\\metrics_util.py:396\u001b[0m, in \u001b[0;36mgather_metrics.<locals>.wrapped_func\u001b[1;34m(*args, **kwargs)\u001b[0m\n\u001b[0;32m    394\u001b[0m         _LOGGER\u001b[39m.\u001b[39mdebug(\u001b[39m\"\u001b[39m\u001b[39mFailed to collect command telemetry\u001b[39m\u001b[39m\"\u001b[39m, exc_info\u001b[39m=\u001b[39mex)\n\u001b[0;32m    395\u001b[0m \u001b[39mtry\u001b[39;00m:\n\u001b[1;32m--> 396\u001b[0m     result \u001b[39m=\u001b[39m non_optional_func(\u001b[39m*\u001b[39margs, \u001b[39m*\u001b[39m\u001b[39m*\u001b[39mkwargs)\n\u001b[0;32m    397\u001b[0m \u001b[39mexcept\u001b[39;00m RerunException \u001b[39mas\u001b[39;00m ex:\n\u001b[0;32m    398\u001b[0m     \u001b[39m# Duplicated from below, because static analysis tools get confused\u001b[39;00m\n\u001b[0;32m    399\u001b[0m     \u001b[39m# by deferring the rethrow.\u001b[39;00m\n\u001b[0;32m    400\u001b[0m     \u001b[39mif\u001b[39;00m tracking_activated \u001b[39mand\u001b[39;00m command_telemetry:\n",
      "File \u001b[1;32mc:\\Users\\ASUS\\AppData\\Local\\Programs\\Python\\Python310\\lib\\site-packages\\streamlit\\elements\\image.py:165\u001b[0m, in \u001b[0;36mImageMixin.image\u001b[1;34m(self, image, caption, width, use_column_width, clamp, channels, output_format)\u001b[0m\n\u001b[0;32m    162\u001b[0m     \u001b[39mraise\u001b[39;00m StreamlitAPIException(\u001b[39m\"\u001b[39m\u001b[39mImage width must be positive.\u001b[39m\u001b[39m\"\u001b[39m)\n\u001b[0;32m    164\u001b[0m image_list_proto \u001b[39m=\u001b[39m ImageListProto()\n\u001b[1;32m--> 165\u001b[0m marshall_images(\n\u001b[0;32m    166\u001b[0m     \u001b[39mself\u001b[39;49m\u001b[39m.\u001b[39;49mdg\u001b[39m.\u001b[39;49m_get_delta_path_str(),\n\u001b[0;32m    167\u001b[0m     image,\n\u001b[0;32m    168\u001b[0m     caption,\n\u001b[0;32m    169\u001b[0m     width,\n\u001b[0;32m    170\u001b[0m     image_list_proto,\n\u001b[0;32m    171\u001b[0m     clamp,\n\u001b[0;32m    172\u001b[0m     channels,\n\u001b[0;32m    173\u001b[0m     output_format,\n\u001b[0;32m    174\u001b[0m )\n\u001b[0;32m    175\u001b[0m \u001b[39mreturn\u001b[39;00m \u001b[39mself\u001b[39m\u001b[39m.\u001b[39mdg\u001b[39m.\u001b[39m_enqueue(\u001b[39m\"\u001b[39m\u001b[39mimgs\u001b[39m\u001b[39m\"\u001b[39m, image_list_proto)\n",
      "File \u001b[1;32mc:\\Users\\ASUS\\AppData\\Local\\Programs\\Python\\Python310\\lib\\site-packages\\streamlit\\elements\\image.py:534\u001b[0m, in \u001b[0;36mmarshall_images\u001b[1;34m(coordinates, image, caption, width, proto_imgs, clamp, channels, output_format)\u001b[0m\n\u001b[0;32m    530\u001b[0m \u001b[39m# We use the index of the image in the input image list to identify this image inside\u001b[39;00m\n\u001b[0;32m    531\u001b[0m \u001b[39m# MediaFileManager. For this, we just add the index to the image's \"coordinates\".\u001b[39;00m\n\u001b[0;32m    532\u001b[0m image_id \u001b[39m=\u001b[39m \u001b[39m\"\u001b[39m\u001b[39m%s\u001b[39;00m\u001b[39m-\u001b[39m\u001b[39m%i\u001b[39;00m\u001b[39m\"\u001b[39m \u001b[39m%\u001b[39m (coordinates, coord_suffix)\n\u001b[1;32m--> 534\u001b[0m proto_img\u001b[39m.\u001b[39murl \u001b[39m=\u001b[39m image_to_url(\n\u001b[0;32m    535\u001b[0m     image, width, clamp, channels, output_format, image_id\n\u001b[0;32m    536\u001b[0m )\n",
      "File \u001b[1;32mc:\\Users\\ASUS\\AppData\\Local\\Programs\\Python\\Python310\\lib\\site-packages\\streamlit\\elements\\image.py:385\u001b[0m, in \u001b[0;36mimage_to_url\u001b[1;34m(image, width, clamp, channels, output_format, image_id)\u001b[0m\n\u001b[0;32m    382\u001b[0m \u001b[39mif\u001b[39;00m mimetype \u001b[39mis\u001b[39;00m \u001b[39mNone\u001b[39;00m:\n\u001b[0;32m    383\u001b[0m     mimetype \u001b[39m=\u001b[39m \u001b[39m\"\u001b[39m\u001b[39mapplication/octet-stream\u001b[39m\u001b[39m\"\u001b[39m\n\u001b[1;32m--> 385\u001b[0m url \u001b[39m=\u001b[39m runtime\u001b[39m.\u001b[39;49mget_instance()\u001b[39m.\u001b[39mmedia_file_mgr\u001b[39m.\u001b[39madd(image, mimetype, image_id)\n\u001b[0;32m    386\u001b[0m caching\u001b[39m.\u001b[39msave_media_data(image, mimetype, image_id)\n\u001b[0;32m    387\u001b[0m \u001b[39mreturn\u001b[39;00m url\n",
      "File \u001b[1;32mc:\\Users\\ASUS\\AppData\\Local\\Programs\\Python\\Python310\\lib\\site-packages\\streamlit\\runtime\\__init__.py:26\u001b[0m, in \u001b[0;36mget_instance\u001b[1;34m()\u001b[0m\n\u001b[0;32m     22\u001b[0m \u001b[39mdef\u001b[39;00m \u001b[39mget_instance\u001b[39m() \u001b[39m-\u001b[39m\u001b[39m>\u001b[39m Runtime:\n\u001b[0;32m     23\u001b[0m     \u001b[39m\"\"\"Return the singleton Runtime instance. Raise an Error if the\u001b[39;00m\n\u001b[0;32m     24\u001b[0m \u001b[39m    Runtime hasn't been created yet.\u001b[39;00m\n\u001b[0;32m     25\u001b[0m \u001b[39m    \"\"\"\u001b[39;00m\n\u001b[1;32m---> 26\u001b[0m     \u001b[39mreturn\u001b[39;00m Runtime\u001b[39m.\u001b[39;49minstance()\n",
      "File \u001b[1;32mc:\\Users\\ASUS\\AppData\\Local\\Programs\\Python\\Python310\\lib\\site-packages\\streamlit\\runtime\\runtime.py:149\u001b[0m, in \u001b[0;36mRuntime.instance\u001b[1;34m(cls)\u001b[0m\n\u001b[0;32m    145\u001b[0m \u001b[39m\"\"\"Return the singleton Runtime instance. Raise an Error if the\u001b[39;00m\n\u001b[0;32m    146\u001b[0m \u001b[39mRuntime hasn't been created yet.\u001b[39;00m\n\u001b[0;32m    147\u001b[0m \u001b[39m\"\"\"\u001b[39;00m\n\u001b[0;32m    148\u001b[0m \u001b[39mif\u001b[39;00m \u001b[39mcls\u001b[39m\u001b[39m.\u001b[39m_instance \u001b[39mis\u001b[39;00m \u001b[39mNone\u001b[39;00m:\n\u001b[1;32m--> 149\u001b[0m     \u001b[39mraise\u001b[39;00m \u001b[39mRuntimeError\u001b[39;00m(\u001b[39m\"\u001b[39m\u001b[39mRuntime hasn\u001b[39m\u001b[39m'\u001b[39m\u001b[39mt been created!\u001b[39m\u001b[39m\"\u001b[39m)\n\u001b[0;32m    150\u001b[0m \u001b[39mreturn\u001b[39;00m \u001b[39mcls\u001b[39m\u001b[39m.\u001b[39m_instance\n",
      "\u001b[1;31mRuntimeError\u001b[0m: Runtime hasn't been created!"
     ]
    }
   ],
   "source": [
    "if choice == 'Business Objective':    \n",
    "    st.subheader(\"Business Objective\")\n",
    "    st.write (\"\"\"###### I.\tWhat is a Recommender System? \n",
    "A recommender system is a system that helps customers/users discover products or services they may like. It is like a salesman of a company who knows what a customer might like based on their history and preferences.\n",
    "Types of Recommender Systems\n",
    "1) Content-Based Filtering\n",
    "The main idea here is to suggest items based on a particular item. For example, when you are building a movie recommendation system, it would take into account a user’s preference for a movie using metrics such as ratings and then use item metadata, such as genre, director, description of the movie, cast, and crew, etc to find movies similar to the ones that a user has liked.\n",
    "2) Collaborative Filtering\n",
    "The collaborative filtering recommendation technique depends on finding similar users to a target user to make personalized recommendations. Collaborative filtering recommen,der systems do not require item metadata like content-based recommendation systems. It relies solely on past user-item interactions to render new recommendations\"\"\")  \n",
    "    st.image(\"recommend sys.jpg\") \n",
    "    st.write (\"\"\"###### II.\tBussiness Objective\n",
    "Shopee is the leading e-commerce platform in Southeast Asia and Taiwan. Launched in 2015, the Shopee commerce platform was built to provide users with an easy, safe and fast experience when shopping online through a strong payment support and operating system, shopee.vn is the top 1 e-commerce website in Vietnam and Southeast Asia.\n",
    "Shoppee wants to launch the first trial Recommend sys system on men's fashion category\n",
    "\"\"\")\n",
    "    st.markdown(\"[Link to  Shoppe app](https://shopee.vn/Th%E1%BB%9Di-Trang-Nam-cat.11035567/)\")\n",
    "    st.image(\"Shopee-logo.png\")\n",
    "    \n",
    "    #filename = \"Products_ThoiTrangNam_raw_tokenize.csv\"\n",
    "    #df = load_data(filename)\n",
    "    #sorted_df=df.groupby(['sub_category']).mean()['rating'].sort_values(ascending= False)\n",
    "    #st.markdown(\"Men's Fashion Category\")\n",
    "    #st.write(sorted_df)\n",
    "    #fig, ax = plt.subplots()\n",
    "    #sorted_df.plot(kind='bar', ax=ax)\n",
    "    #ax.set_title('Average rating by sub_category')\n",
    "    #ax.set_xlabel('sub_category')\n",
    "    #ax.set_ylabel('Average rating')\n",
    "    #st.pyplot(fig)\n",
    "elif choice == 'Content-based Filtering':\n",
    "    filename = \"Products_ThoiTrangNam_raw_tokenize.csv\"\n",
    "    df = load_data(filename)\n",
    "    df, dictionary, corpus, tfidf = train_model(df)\n",
    "    st.markdown(\"Content-based Filtering\")\n",
    "    \n",
    "    type = st.radio(\"Filter data or Input data?\", options=(\"Filter\", \"Input\"))\n",
    "    \n",
    "    if type==\"Input\":\n",
    "# Build the Streamlit app\n",
    "        st.subheader(\"Content-based Filtering\")\n",
    "# Get user input query\n",
    "        query = st.text_input(\"Enter a product name:\")\n",
    "        if query:\n",
    "            results = recommend_products(query, df, dictionary, corpus, tfidf)\n",
    "            if results:\n",
    "                st.write(\"Here are the top results:\")\n",
    "                for i, sim in enumerate(results ):\n",
    "                    doc_index = sim[0]\n",
    "                    doc_score = round(sim[1], 2)\n",
    "                    st.write(f\"Recommendation {i+1}: Score - {doc_score}\")\n",
    "                    st.write(df.loc[doc_index, 'product_name'])\n",
    "                    st.image(df.loc[doc_index, 'image'])\n",
    "                #st.write(df.loc[doc_index, 'link'])\n",
    "                    st.write(\"[View on website]({})\".format(df.loc[doc_index, 'link']))\n",
    "            else:\n",
    "                st.write('No recommendations found.')\n",
    "    else:\n",
    "        st.subheader(\"Content-based Filtering\")\n",
    "        product_options = df['product_name'].unique()\n",
    "        selected_product__name = st.selectbox('Select Product name:', product_options)\n",
    "        query=df['product_name'][df['product_name']==selected_product__name].item()\n",
    "        results = recommend_products_2(query, df, dictionary, corpus, tfidf)\n",
    "        if results:\n",
    "            st.write(\"Here are the top results:\")\n",
    "            for i, sim in enumerate(results ):\n",
    "                doc_index = sim[0]\n",
    "                doc_score = round(sim[1], 2)\n",
    "                st.write(f\"Recommendation {i+1}: Score - {doc_score}\")\n",
    "                st.write(df.loc[doc_index, 'product_name'])\n",
    "                st.image(df.loc[doc_index, 'image'])\n",
    "                #st.write(df.loc[doc_index, 'link'])\n",
    "                st.write(\"[View on website]({})\".format(df.loc[doc_index, 'link']))\n",
    "        else:    \n",
    "            st.write('No recommendations found.')\n",
    " \n",
    "                      \n",
    "elif choice == 'Collaborative Filtering':\n",
    "    st.title(\"Collaborative Filtering Project\")"
   ]
  },
  {
   "cell_type": "code",
   "execution_count": 9,
   "metadata": {},
   "outputs": [
    {
     "ename": "IndentationError",
     "evalue": "unexpected indent (164705630.py, line 2)",
     "output_type": "error",
     "traceback": [
      "\u001b[1;36m  Cell \u001b[1;32mIn[9], line 2\u001b[1;36m\u001b[0m\n\u001b[1;33m    for index, row in result.iterrows():\u001b[0m\n\u001b[1;37m    ^\u001b[0m\n\u001b[1;31mIndentationError\u001b[0m\u001b[1;31m:\u001b[0m unexpected indent\n"
     ]
    }
   ],
   "source": [
    "# Display data for each row in the CSV file\n",
    "    for index, row in result.iterrows():\n",
    "        display_data(row)\n"
   ]
  }
 ],
 "metadata": {
  "kernelspec": {
   "display_name": "Python 3",
   "language": "python",
   "name": "python3"
  },
  "language_info": {
   "codemirror_mode": {
    "name": "ipython",
    "version": 3
   },
   "file_extension": ".py",
   "mimetype": "text/x-python",
   "name": "python",
   "nbconvert_exporter": "python",
   "pygments_lexer": "ipython3",
   "version": "3.10.6"
  }
 },
 "nbformat": 4,
 "nbformat_minor": 2
}
