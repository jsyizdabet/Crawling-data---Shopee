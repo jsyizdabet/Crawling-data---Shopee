{
 "cells": [
  {
   "cell_type": "markdown",
   "metadata": {},
   "source": [
    "# WEB ANALSIS SHOPEE - CREATE A RECOMMENDER SYSTEM USING KNN AND TF-TDF MODEL"
   ]
  },
  {
   "cell_type": "markdown",
   "metadata": {},
   "source": [
    "In this project, we crawled and analyzed a dataset of over 5.000 products listed on Shopee and building a recommendation system for these products.\n",
    "The dataset includes details of product such as product name, , price, rating, and user reviews.\n",
    "The goal of this project is to understand customer preferences, identify purchasing patterns, and develop a recommendation system to suggest products to users based on their interests.\n",
    "\n",
    "*This project will consist of the following steps :*\n",
    "\n",
    "1. Data Collection : Collect the Shopee products dataset from Shopee's website through API\n",
    "2. Data Preparation : Clean and preprocess the dataset for analysis.\n",
    "3. Exploratory Data Analysis : Analyze the data to understand the distribution of products by categories, customer ratings, and reviews.\n",
    "4. Data Visuallization : Visualize the data to identify trends and patterns\n",
    "5. Build the Recommender system using TF-TDF model\n",
    "6. Back-test model and conclusion"
   ]
  },
  {
   "cell_type": "markdown",
   "metadata": {},
   "source": [
    "## Team members\n",
    "1. Hoàng Ngọc Lan Hoa - K194131662\n",
    "2. Vương Quốc Thịnh - K204111789\n",
    "3. Nguyễn Ngọc Như Ý - K214110828\n",
    "4. Lê Gia Huy - K214110798\n",
    "5. Nguyễn Ngọc Thanh Trúc - K214131334\n",
    "6. Bùi Phương Nguyên - K214130880\n",
    "7. Trần Thị Nhàn - K214131988"
   ]
  },
  {
   "cell_type": "markdown",
   "metadata": {},
   "source": [
    "## 1. Introduction"
   ]
  },
  {
   "cell_type": "markdown",
   "metadata": {},
   "source": [
    "Recommender Systems - Item based collaborative filtering\n",
    "1. In user based recommendation systems, habits of users can be changed. This situation makes hard to recommendation. However, in item based recommendation systems, movies or stuffs does not change. Therefore recommendation is easier.\n",
    "2. On the other hand, there are almost 7 billion people all over the world. Comparing people increases the computational power. However, if items are compared, computational power is less."
   ]
  },
  {
   "cell_type": "markdown",
   "metadata": {},
   "source": [
    "## 2. Crawling Data"
   ]
  },
  {
   "cell_type": "code",
   "execution_count": null,
   "metadata": {},
   "outputs": [],
   "source": [
    "#import libraries\n",
    "import requests\n",
    "import json\n",
    "from selenium import webdriver\n",
    "from selenium.webdriver.chrome.service import Service\n",
    "from selenium.webdriver.chrome.options import Options\n",
    "import pandas as pd\n",
    "import time "
   ]
  },
  {
   "cell_type": "markdown",
   "metadata": {},
   "source": [
    "We use the chromedrive package to crawling data in this project"
   ]
  },
  {
   "cell_type": "code",
   "execution_count": null,
   "metadata": {},
   "outputs": [],
   "source": [
    "chrome_driver_path = r'C:\\Users\\Admin\\Desktop\\crawlData\\chromedriver-win64\\chromedriver-win64\\chromedriver.exe'\n",
    "\n",
    "fileNameBackupCsv = 'data_backup'\n",
    "fileNameBackupJson = 'data_backup'\n",
    "service = Service(chrome_driver_path)\n",
    "driver = webdriver.Chrome(service=service)\n",
    "chrome_options = Options()\n",
    "chrome_options.add_argument(\"--headless\")  \n",
    "chrome_options.add_argument(\"--disable-gpu\")\n",
    "chrome_options.add_argument(\"--disable-extensions\")\n",
    "chrome_options.add_argument(\"--no-sandbox\")\n",
    "chrome_options.add_argument(\"--disable-dev-shm-usage\")\n",
    "\n",
    "driver = webdriver.Chrome(options=chrome_options)\n",
    "list_cate = {\n",
    "    \"Thời Trang Nữ\": \"11035639\",\n",
    "    \"Thời Trang Nam\": \"11035567\",\n",
    "    \"Thời Trang Trẻ Em\": \"11036382\",\n",
    "    \"Giày Dép Nam\":\"11035801\",\n",
    "    \"Giày Dép Nữ\":\"11035825\",\n",
    "    \"Phụ Kiện Trang Sức Nữ\":\"11035853\",\n",
    "    \"Ba Lô Túi Ví Nam\":\"11035741\",\n",
    "    \"Đồng Hồ\":\"11035788\",\n",
    "    \"Đồ Chơi\":\"11036932\", \n",
    "    \"Túi Ví Nữ\":\"11035761\",\n",
    "    \"Sắc Đẹp\":\"11036279\"\n",
    "}\n",
    "\n",
    "#save to csv/ excel file\n",
    "fileNameBackupCsv = 'data_backup'\n",
    "fileNameBackupJson = 'data_backup'\n",
    "excel_file_path = 'output.xlsx'\n",
    "\n",
    "all_dataframes = []\n",
    "\n",
    "for key, cat_id in list_cate.items():\n",
    "    print(\"Processing category:\", key)\n",
    "\n",
    "    # Gọi API với cat_id của từng danh mục\n",
    "    api = f'https://shopee.vn/api/v4/recommend/recommend?bundle=category_landing_page&cat_level=1&catid={cat_id}&limit=5000000&offset=0'\n",
    "    print('call api: ')\n",
    "    print(api)\n",
    "    response = requests.get(api)\n",
    "\n",
    "    if response.status_code == 200:\n",
    "        data = response.json()\n",
    "        list_item = data['data']['sections'][0]['data']['item']\n",
    "\n",
    "        # Convert danh sách thành DataFrame\n",
    "        df = pd.DataFrame(list_item)\n",
    "\n",
    "        # Xóa các cột không cần thiết\n",
    "        columns_to_drop = [\n",
    "              'shopid', \n",
    "     'itemid',\n",
    "    'label_ids',\n",
    "    'catid',\n",
    "    'hidden_price_display',\n",
    "    'has_lowest_price_guarantee',\n",
    "    'is_category_failed',\n",
    "    'size_chart',\n",
    "    'video_info_list', \n",
    "    'reference_item_id',\n",
    "    'transparent_background_image',\n",
    "    'is_adult',\n",
    "    'badge_icon_type',\n",
    "    'shopee_verified',\n",
    "    'is_official_shop',\n",
    "    'show_official_shop_label',\n",
    "    'show_shopee_verified_label',\n",
    "    'show_official_shop_label_in_title',\n",
    "    'is_cc_installment_payment_eligible',\n",
    "    'is_non_cc_installment_payment_eligible',\n",
    "    'coin_earn_label',\n",
    "    'show_free_shipping',\n",
    "    'preview_info',\n",
    "    'coin_info',\n",
    "    'exclusive_price_info',\n",
    "    'bundle_deal_id',\n",
    "     'is_group_buy_item',\n",
    "    'has_group_buy_stock',\n",
    "    'group_buy_info',\n",
    "    'welcome_package_type',\n",
    "    'welcome_package_info',\n",
    "    'can_use_wholesale',\n",
    "    'is_preferred_plus_seller',\n",
    "    'has_model_with_available_shopee_stock',\n",
    "    'is_on_flash_sale',\n",
    "    'spl_installment_tenure',\n",
    "    'is_live_streaming_price',\n",
    "    'is_mart',\n",
    "    'pack_size',\n",
    "    'overlay_image',\n",
    "    'autogen_title',\n",
    "    'autogen_title_id',\n",
    "    'overlay_id',\n",
    "    'is_service_by_shopee',\n",
    "    'free_shipping_info',\n",
    "    'global_sold_count',\n",
    "    'repurchase_rate',\n",
    "    'best_selling_tag',\n",
    "    'is_seller_configured',\n",
    "    'tp_label',\n",
    "    'flash_sale_design_style',\n",
    "    'flash_sale_label_content',\n",
    "    'flash_sale_sold_percentage',\n",
    "    'info',\n",
    "    'data_type',\n",
    "    'key',\n",
    "    'count',\n",
    "    'adsid',\n",
    "    'campaignid',\n",
    "    'deduction_info',\n",
    "    'video_display_control',\n",
    "    'deep_discount_skin',\n",
    "    'experiment_info',\n",
    "    'relationship_label',\n",
    "    'live_stream_session',\n",
    "    'live_streaming_info',\n",
    "    'new_user_label',\n",
    "    'wp_eligibility',\n",
    "    'platform_voucher',\n",
    "    'rcmd_reason',\n",
    "    'highlight_video',\n",
    "    'can_use_cod',\n",
    "    'pub_id',\n",
    "    'pub_context_id',\n",
    "    'friend_relationship_label',\n",
    "    'showing_rs_label',\n",
    "    'showing_friend_rs_label',\n",
    "    'show_flash_sale_label',\n",
    "    'search_id',\n",
    "    'ext_info',\n",
    "    'session_id',\n",
    "    'algo_info',\n",
    "    'hostid',\n",
    "    'from',\n",
    "    'view_cnt',\n",
    "    'cover',\n",
    "    'title',\n",
    "    'avatar',\n",
    "    'user_name',\n",
    "    'play_url',\n",
    "    'has_voucher',\n",
    "    'has_draw',\n",
    "    'draw_type',\n",
    "    'has_streaming_price',\n",
    "    'coins_per_claim',\n",
    "    'play_url_expiration',\n",
    "    'coins_can_claim_cnt',\n",
    "    'item',\n",
    "    'ui_type',\n",
    "    'room_id',\n",
    "    'user_id',\n",
    "    'nick_name',\n",
    "    'product_banners',\n",
    "    'top_product_label',\n",
    "    'fashion_item',\n",
    "    'image_search',\n",
    "    'generic_search_card'\n",
    "        ]\n",
    "        df = df.drop(columns=columns_to_drop, axis=1)\n",
    "\n",
    "        # Thêm DataFrame vào danh sách\n",
    "        df['Category'] = key\n",
    "        all_dataframes.append(df)\n",
    "        print(\"process success, will waiting 1 min\")\n",
    "        time.sleep(10)\n",
    "\n",
    "    else:\n",
    "        print('Get Api Fail:', response.status_code)\n",
    "        print(\"process fail, will waiting 1 min\")\n",
    "        time.sleep(10)\n",
    "\n",
    "# Ghép tất cả các DataFrame lại theo chiều dọc\n",
    "final_dataframe = pd.concat(all_dataframes, ignore_index=True)\n",
    "\n",
    "# Lưu vào file Excel\n",
    "final_dataframe.to_excel(excel_file_path, index=False)\n",
    "\n",
    "driver.quit()"
   ]
  },
  {
   "cell_type": "markdown",
   "metadata": {},
   "source": [
    "## 2. Cleaning data"
   ]
  },
  {
   "cell_type": "code",
   "execution_count": 1,
   "metadata": {},
   "outputs": [],
   "source": [
    "import pandas as pd\n",
    "import seaborn as sns\n",
    "import matplotlib.pyplot as ptl\n",
    "import sklearn as sk\n",
    "import re\n",
    "import streamlit as st \n",
    "from gensim import corpora, models, similarities\n",
    "from PIL import Image\n",
    "from scipy import stats\n",
    "from sklearn.feature_extraction.text import TfidfVectorizer\n",
    "from sklearn.metrics.pairwise import linear_kernel\n",
    "from sklearn.metrics import ndcg_score\n",
    "import math"
   ]
  },
  {
   "cell_type": "code",
   "execution_count": 3,
   "metadata": {},
   "outputs": [
    {
     "data": {
      "text/html": [
       "<div>\n",
       "<style scoped>\n",
       "    .dataframe tbody tr th:only-of-type {\n",
       "        vertical-align: middle;\n",
       "    }\n",
       "\n",
       "    .dataframe tbody tr th {\n",
       "        vertical-align: top;\n",
       "    }\n",
       "\n",
       "    .dataframe thead th {\n",
       "        text-align: right;\n",
       "    }\n",
       "</style>\n",
       "<table border=\"1\" class=\"dataframe\">\n",
       "  <thead>\n",
       "    <tr style=\"text-align: right;\">\n",
       "      <th></th>\n",
       "      <th>name</th>\n",
       "      <th>image</th>\n",
       "      <th>images</th>\n",
       "      <th>currency</th>\n",
       "      <th>stock</th>\n",
       "      <th>status</th>\n",
       "      <th>ctime</th>\n",
       "      <th>sold</th>\n",
       "      <th>historical_sold</th>\n",
       "      <th>liked</th>\n",
       "      <th>...</th>\n",
       "      <th>item_rating</th>\n",
       "      <th>item_type</th>\n",
       "      <th>can_use_bundle_deal</th>\n",
       "      <th>bundle_deal_info</th>\n",
       "      <th>add_on_deal_info</th>\n",
       "      <th>shop_location</th>\n",
       "      <th>voucher_info</th>\n",
       "      <th>shop_name</th>\n",
       "      <th>shop_rating</th>\n",
       "      <th>flash_sale_stock</th>\n",
       "    </tr>\n",
       "  </thead>\n",
       "  <tbody>\n",
       "    <tr>\n",
       "      <th>0</th>\n",
       "      <td>Áo Sơ Mi Chất Nhung Tăm Nam Nữ Form Rộng Nâu B...</td>\n",
       "      <td>f50d3f92dd1ada0d005f6c5fdcab8c28</td>\n",
       "      <td>['f50d3f92dd1ada0d005f6c5fdcab8c28', '9404417e...</td>\n",
       "      <td>VND</td>\n",
       "      <td>6553</td>\n",
       "      <td>1</td>\n",
       "      <td>1654401683</td>\n",
       "      <td>591</td>\n",
       "      <td>11742</td>\n",
       "      <td>False</td>\n",
       "      <td>...</td>\n",
       "      <td>{'rating_star': 4.612869198312236, 'rating_cou...</td>\n",
       "      <td>0</td>\n",
       "      <td>False</td>\n",
       "      <td>NaN</td>\n",
       "      <td>NaN</td>\n",
       "      <td>Hà Nội</td>\n",
       "      <td>NaN</td>\n",
       "      <td>NASU MAY -XƯỞNG MAY THỜI TRANG</td>\n",
       "      <td>4.564263</td>\n",
       "      <td>0</td>\n",
       "    </tr>\n",
       "    <tr>\n",
       "      <th>1</th>\n",
       "      <td>Quần short jean nữ trắng vải denim rách bền đẹ...</td>\n",
       "      <td>201dbe9de76b3d51ee162762a92d0fce</td>\n",
       "      <td>['201dbe9de76b3d51ee162762a92d0fce', '263a7dec...</td>\n",
       "      <td>VND</td>\n",
       "      <td>6494</td>\n",
       "      <td>1</td>\n",
       "      <td>1652782242</td>\n",
       "      <td>1269</td>\n",
       "      <td>28852</td>\n",
       "      <td>False</td>\n",
       "      <td>...</td>\n",
       "      <td>{'rating_star': 4.860752965446106, 'rating_cou...</td>\n",
       "      <td>0</td>\n",
       "      <td>False</td>\n",
       "      <td>NaN</td>\n",
       "      <td>{'add_on_deal_id': 213749830, 'add_on_deal_lab...</td>\n",
       "      <td>TP. Hồ Chí Minh</td>\n",
       "      <td>NaN</td>\n",
       "      <td>AnNgo - Mê Jean Nữ</td>\n",
       "      <td>4.858771</td>\n",
       "      <td>0</td>\n",
       "    </tr>\n",
       "  </tbody>\n",
       "</table>\n",
       "<p>2 rows × 37 columns</p>\n",
       "</div>"
      ],
      "text/plain": [
       "                                                name  \\\n",
       "0  Áo Sơ Mi Chất Nhung Tăm Nam Nữ Form Rộng Nâu B...   \n",
       "1  Quần short jean nữ trắng vải denim rách bền đẹ...   \n",
       "\n",
       "                              image  \\\n",
       "0  f50d3f92dd1ada0d005f6c5fdcab8c28   \n",
       "1  201dbe9de76b3d51ee162762a92d0fce   \n",
       "\n",
       "                                              images currency  stock  status  \\\n",
       "0  ['f50d3f92dd1ada0d005f6c5fdcab8c28', '9404417e...      VND   6553       1   \n",
       "1  ['201dbe9de76b3d51ee162762a92d0fce', '263a7dec...      VND   6494       1   \n",
       "\n",
       "        ctime  sold  historical_sold  liked  ...  \\\n",
       "0  1654401683   591            11742  False  ...   \n",
       "1  1652782242  1269            28852  False  ...   \n",
       "\n",
       "                                         item_rating  item_type  \\\n",
       "0  {'rating_star': 4.612869198312236, 'rating_cou...          0   \n",
       "1  {'rating_star': 4.860752965446106, 'rating_cou...          0   \n",
       "\n",
       "  can_use_bundle_deal  bundle_deal_info  \\\n",
       "0               False               NaN   \n",
       "1               False               NaN   \n",
       "\n",
       "                                    add_on_deal_info    shop_location  \\\n",
       "0                                                NaN           Hà Nội   \n",
       "1  {'add_on_deal_id': 213749830, 'add_on_deal_lab...  TP. Hồ Chí Minh   \n",
       "\n",
       "  voucher_info                       shop_name  shop_rating  flash_sale_stock  \n",
       "0          NaN  NASU MAY -XƯỞNG MAY THỜI TRANG     4.564263                 0  \n",
       "1          NaN              AnNgo - Mê Jean Nữ     4.858771                 0  \n",
       "\n",
       "[2 rows x 37 columns]"
      ]
     },
     "execution_count": 3,
     "metadata": {},
     "output_type": "execute_result"
    }
   ],
   "source": [
    "shopee = pd.read_excel('output.xlsx')\n",
    "shopee.head(2)"
   ]
  },
  {
   "cell_type": "code",
   "execution_count": 4,
   "metadata": {},
   "outputs": [
    {
     "data": {
      "text/plain": [
       "Index(['name', 'image', 'images', 'currency', 'stock', 'status', 'ctime',\n",
       "       'sold', 'historical_sold', 'liked', 'liked_count', 'view_count',\n",
       "       'brand', 'cmt_count', 'flag', 'cb_option', 'item_status', 'price',\n",
       "       'price_min', 'price_max', 'price_min_before_discount',\n",
       "       'price_max_before_discount', 'price_before_discount', 'show_discount',\n",
       "       'raw_discount', 'discount', 'tier_variations', 'item_rating',\n",
       "       'item_type', 'can_use_bundle_deal', 'bundle_deal_info',\n",
       "       'add_on_deal_info', 'shop_location', 'voucher_info', 'shop_name',\n",
       "       'shop_rating', 'flash_sale_stock'],\n",
       "      dtype='object')"
      ]
     },
     "execution_count": 4,
     "metadata": {},
     "output_type": "execute_result"
    }
   ],
   "source": [
    "#check the dataset's columns\n",
    "shopee.columns"
   ]
  },
  {
   "cell_type": "code",
   "execution_count": 5,
   "metadata": {},
   "outputs": [
    {
     "data": {
      "text/html": [
       "<div>\n",
       "<style scoped>\n",
       "    .dataframe tbody tr th:only-of-type {\n",
       "        vertical-align: middle;\n",
       "    }\n",
       "\n",
       "    .dataframe tbody tr th {\n",
       "        vertical-align: top;\n",
       "    }\n",
       "\n",
       "    .dataframe thead th {\n",
       "        text-align: right;\n",
       "    }\n",
       "</style>\n",
       "<table border=\"1\" class=\"dataframe\">\n",
       "  <thead>\n",
       "    <tr style=\"text-align: right;\">\n",
       "      <th></th>\n",
       "      <th>name</th>\n",
       "      <th>sold</th>\n",
       "      <th>historical_sold</th>\n",
       "      <th>liked</th>\n",
       "      <th>liked_count</th>\n",
       "      <th>cmt_count</th>\n",
       "      <th>price</th>\n",
       "      <th>discount</th>\n",
       "      <th>tier_variations</th>\n",
       "      <th>item_rating</th>\n",
       "      <th>shop_location</th>\n",
       "      <th>shop_name</th>\n",
       "      <th>shop_rating</th>\n",
       "    </tr>\n",
       "  </thead>\n",
       "  <tbody>\n",
       "    <tr>\n",
       "      <th>0</th>\n",
       "      <td>Áo Sơ Mi Chất Nhung Tăm Nam Nữ Form Rộng Nâu B...</td>\n",
       "      <td>591</td>\n",
       "      <td>11742</td>\n",
       "      <td>False</td>\n",
       "      <td>6841</td>\n",
       "      <td>3792</td>\n",
       "      <td>7900000000</td>\n",
       "      <td>46%</td>\n",
       "      <td>[{'name': 'Màu sắc', 'options': ['NÂU', 'BE NU...</td>\n",
       "      <td>{'rating_star': 4.612869198312236, 'rating_cou...</td>\n",
       "      <td>Hà Nội</td>\n",
       "      <td>NASU MAY -XƯỞNG MAY THỜI TRANG</td>\n",
       "      <td>4.564263</td>\n",
       "    </tr>\n",
       "    <tr>\n",
       "      <th>1</th>\n",
       "      <td>Quần short jean nữ trắng vải denim rách bền đẹ...</td>\n",
       "      <td>1269</td>\n",
       "      <td>28852</td>\n",
       "      <td>False</td>\n",
       "      <td>22433</td>\n",
       "      <td>7756</td>\n",
       "      <td>8800000000</td>\n",
       "      <td>32%</td>\n",
       "      <td>[{'name': 'Màu sắc', 'options': ['199 trắng - ...</td>\n",
       "      <td>{'rating_star': 4.860752965446106, 'rating_cou...</td>\n",
       "      <td>TP. Hồ Chí Minh</td>\n",
       "      <td>AnNgo - Mê Jean Nữ</td>\n",
       "      <td>4.858771</td>\n",
       "    </tr>\n",
       "    <tr>\n",
       "      <th>2</th>\n",
       "      <td>Quần jean nữ ống rộng đen xám phong cách Ulzza...</td>\n",
       "      <td>2236</td>\n",
       "      <td>57608</td>\n",
       "      <td>False</td>\n",
       "      <td>49836</td>\n",
       "      <td>21183</td>\n",
       "      <td>13900000000</td>\n",
       "      <td>44%</td>\n",
       "      <td>[{'name': 'Mẫu', 'options': ['Đen Xám ĐaiCúc(J...</td>\n",
       "      <td>{'rating_star': 4.870550467377963, 'rating_cou...</td>\n",
       "      <td>TP. Hồ Chí Minh</td>\n",
       "      <td>Kyubi Shop Official</td>\n",
       "      <td>4.878541</td>\n",
       "    </tr>\n",
       "    <tr>\n",
       "      <th>3</th>\n",
       "      <td>CHÂN VÁY BÒ 2 TÚI TRƯỚC XẺ VẠT SIÊU HOT 3 MÀU ...</td>\n",
       "      <td>870</td>\n",
       "      <td>22012</td>\n",
       "      <td>False</td>\n",
       "      <td>12315</td>\n",
       "      <td>7220</td>\n",
       "      <td>2500000000</td>\n",
       "      <td>38%</td>\n",
       "      <td>[{'name': 'Màu sắc', 'options': ['XANH NHẠT', ...</td>\n",
       "      <td>{'rating_star': 4.7997227997228, 'rating_count...</td>\n",
       "      <td>Hà Nội</td>\n",
       "      <td>XƯỞNG MAY TRANG LINH - JEANS</td>\n",
       "      <td>4.800839</td>\n",
       "    </tr>\n",
       "    <tr>\n",
       "      <th>4</th>\n",
       "      <td>ÁO THUN UNISEX RAGE OF THE SEA(ROTS STUDIO) \"H...</td>\n",
       "      <td>696</td>\n",
       "      <td>20118</td>\n",
       "      <td>False</td>\n",
       "      <td>4919</td>\n",
       "      <td>5973</td>\n",
       "      <td>9120000000</td>\n",
       "      <td>51%</td>\n",
       "      <td>[{'name': 'Màu Sắc', 'options': ['Màu Đen', 'M...</td>\n",
       "      <td>{'rating_star': 4.850661309224845, 'rating_cou...</td>\n",
       "      <td>Đồng Nai</td>\n",
       "      <td>Rage Of The Sea (ROTS)</td>\n",
       "      <td>4.866905</td>\n",
       "    </tr>\n",
       "  </tbody>\n",
       "</table>\n",
       "</div>"
      ],
      "text/plain": [
       "                                                name  sold  historical_sold  \\\n",
       "0  Áo Sơ Mi Chất Nhung Tăm Nam Nữ Form Rộng Nâu B...   591            11742   \n",
       "1  Quần short jean nữ trắng vải denim rách bền đẹ...  1269            28852   \n",
       "2  Quần jean nữ ống rộng đen xám phong cách Ulzza...  2236            57608   \n",
       "3  CHÂN VÁY BÒ 2 TÚI TRƯỚC XẺ VẠT SIÊU HOT 3 MÀU ...   870            22012   \n",
       "4  ÁO THUN UNISEX RAGE OF THE SEA(ROTS STUDIO) \"H...   696            20118   \n",
       "\n",
       "   liked  liked_count  cmt_count        price discount  \\\n",
       "0  False         6841       3792   7900000000      46%   \n",
       "1  False        22433       7756   8800000000      32%   \n",
       "2  False        49836      21183  13900000000      44%   \n",
       "3  False        12315       7220   2500000000      38%   \n",
       "4  False         4919       5973   9120000000      51%   \n",
       "\n",
       "                                     tier_variations  \\\n",
       "0  [{'name': 'Màu sắc', 'options': ['NÂU', 'BE NU...   \n",
       "1  [{'name': 'Màu sắc', 'options': ['199 trắng - ...   \n",
       "2  [{'name': 'Mẫu', 'options': ['Đen Xám ĐaiCúc(J...   \n",
       "3  [{'name': 'Màu sắc', 'options': ['XANH NHẠT', ...   \n",
       "4  [{'name': 'Màu Sắc', 'options': ['Màu Đen', 'M...   \n",
       "\n",
       "                                         item_rating    shop_location  \\\n",
       "0  {'rating_star': 4.612869198312236, 'rating_cou...           Hà Nội   \n",
       "1  {'rating_star': 4.860752965446106, 'rating_cou...  TP. Hồ Chí Minh   \n",
       "2  {'rating_star': 4.870550467377963, 'rating_cou...  TP. Hồ Chí Minh   \n",
       "3  {'rating_star': 4.7997227997228, 'rating_count...           Hà Nội   \n",
       "4  {'rating_star': 4.850661309224845, 'rating_cou...         Đồng Nai   \n",
       "\n",
       "                        shop_name  shop_rating  \n",
       "0  NASU MAY -XƯỞNG MAY THỜI TRANG     4.564263  \n",
       "1              AnNgo - Mê Jean Nữ     4.858771  \n",
       "2             Kyubi Shop Official     4.878541  \n",
       "3    XƯỞNG MAY TRANG LINH - JEANS     4.800839  \n",
       "4          Rage Of The Sea (ROTS)     4.866905  "
      ]
     },
     "execution_count": 5,
     "metadata": {},
     "output_type": "execute_result"
    }
   ],
   "source": [
    "#drop unnescessary columns\n",
    "shopee=shopee.drop(columns=['image', 'images', 'currency', 'stock', 'status', 'ctime', 'view_count', 'brand', 'flag', 'cb_option', 'item_status', 'price_min', 'price_max', 'price_min_before_discount','price_max_before_discount','price_before_discount','show_discount','raw_discount','item_type','can_use_bundle_deal','bundle_deal_info','add_on_deal_info','voucher_info','flash_sale_stock'], axis=1)\n",
    "shopee.head()"
   ]
  },
  {
   "cell_type": "code",
   "execution_count": 6,
   "metadata": {},
   "outputs": [
    {
     "name": "stdout",
     "output_type": "stream",
     "text": [
      "This dataset contains  500  rows and  13  columns\n"
     ]
    },
    {
     "data": {
      "text/plain": [
       "name                0\n",
       "sold                0\n",
       "historical_sold     0\n",
       "liked               0\n",
       "liked_count         0\n",
       "cmt_count           0\n",
       "price               0\n",
       "discount           41\n",
       "tier_variations     0\n",
       "item_rating         0\n",
       "shop_location       0\n",
       "shop_name           0\n",
       "shop_rating         0\n",
       "dtype: int64"
      ]
     },
     "execution_count": 6,
     "metadata": {},
     "output_type": "execute_result"
    }
   ],
   "source": [
    "# List total number of rows and columns\n",
    "print(\"This dataset contains \", shopee.shape[0], \" rows and \", shopee.shape[1], \" columns\")\n",
    "\n",
    "#clean the '%' symbol in 'discount' column\n",
    "shopee['discount'] = shopee['discount'].str.replace('%','').astype('float64')\n",
    "shopee['discount'] = shopee['discount']/10\n",
    "\n",
    "#check for missing value\n",
    "shopee.isna().sum()"
   ]
  },
  {
   "cell_type": "code",
   "execution_count": 21,
   "metadata": {},
   "outputs": [],
   "source": [
    "#fill in missing data\n",
    "shopee['discount'].fillna(shopee['discount'].mean(), inplace=True)"
   ]
  },
  {
   "cell_type": "code",
   "execution_count": null,
   "metadata": {},
   "outputs": [],
   "source": [
    "#drop dupliacetes records\n",
    "df.drop_duplicates(inplace=True)"
   ]
  },
  {
   "cell_type": "markdown",
   "metadata": {},
   "source": [
    "## 3. EDA"
   ]
  },
  {
   "cell_type": "markdown",
   "metadata": {},
   "source": [
    "## 4. Building Recommender System"
   ]
  },
  {
   "cell_type": "markdown",
   "metadata": {},
   "source": [
    "### Content-Based Filtering\n",
    "* TF-IDF Vectorization with Cosine Similarity: Convert item attributes into text representations (as shown in the previous code) and use cosine similarity to find similar items based on their attributes."
   ]
  },
  {
   "cell_type": "code",
   "execution_count": 22,
   "metadata": {},
   "outputs": [],
   "source": [
    "#create a new dataframe from dataset\n",
    "df = pd.DataFrame(shopee)\n",
    "\n",
    "# Feature engineering: Combine relevant attributes into a single text representation\n",
    "df['attributes'] = df['name']+ ' '+ df['sold'].astype(str) + ' '+df['price'].astype(str)+' '+df['discount'].astype(str) + ' '+df['shop_rating'].astype(str)\n",
    "\n",
    "# Vectorize the text attributes\n",
    "tfidf_vectorizer = TfidfVectorizer()\n",
    "tfidf_matrix = tfidf_vectorizer.fit_transform(df['attributes'])\n",
    "\n",
    "\n",
    "# Calculate cosine similarity between items based on their attributes\n",
    "cosine_sim = linear_kernel(tfidf_matrix, tfidf_matrix)\n",
    "\n",
    "\n",
    "# Function to get recommendations based on item similarity\n",
    "def get_recommendations(item_name, cosine_sim=cosine_sim, df=df, top_n=5):\n",
    "     # Check if the item exists in the DataFrame\n",
    "    if item_name not in df['name'].values:\n",
    "        print(f\"Item '{item_name}' not found in the dataset.\")\n",
    "        return None\n",
    "    \n",
    "   # Get the index of the item in the DataFrame\n",
    "    idx = df[df['name'] == item_name].index[0]\n",
    "    \n",
    "    # Get pairwise similarity scores with other items\n",
    "    sim_scores = list(enumerate(cosine_sim[idx]))\n",
    "    \n",
    "    # Sort the items based on similarity scores\n",
    "    sim_scores = sorted(sim_scores, key=lambda x: x[1], reverse=True)\n",
    "    \n",
    "    # Get top N similar items (excluding the queried item itself)\n",
    "    sim_scores = sim_scores[1:top_n + 1]\n",
    "    \n",
    "    # Get indices of the top N similar items\n",
    "    item_indices = [i[0] for i in sim_scores]\n",
    "    \n",
    "    # Return the top N similar items\n",
    "    return df.iloc[item_indices]['name']\n"
   ]
  },
  {
   "cell_type": "code",
   "execution_count": 23,
   "metadata": {},
   "outputs": [
    {
     "name": "stdout",
     "output_type": "stream",
     "text": [
      "Recommendations for 'Áo Sơ Mi Chất Nhung Tăm Nam Nữ Form Rộng Nâu Be Siêu Hot':\n",
      "281    Áo sơ mi nữ dài tay form rộng Hoạ Tiết Sọc Dán...\n",
      "456    Áo sơ mi nam nhung tay ngắn VICENZO thời trang...\n",
      "193    Áo sơ mi đũi xước dáng rộng , áo sơ mi chất vả...\n",
      "168    Áo sơ mi nữ dài tay form rộng ulzzang kiểu hàn...\n",
      "352    Quần Nhung Tăm Ống Rộng Dây Rút Xuất Hàn Mặc T...\n",
      "Name: name, dtype: object\n"
     ]
    }
   ],
   "source": [
    "recommendations = get_recommendations('Áo Sơ Mi Chất Nhung Tăm Nam Nữ Form Rộng Nâu Be Siêu Hot')\n",
    "print(\"Recommendations for 'Áo Sơ Mi Chất Nhung Tăm Nam Nữ Form Rộng Nâu Be Siêu Hot':\")\n",
    "print(recommendations)"
   ]
  },
  {
   "cell_type": "markdown",
   "metadata": {},
   "source": [
    "* Feature Engineering and Similarity Measures: Create numerical or categorical features from the item attributes and apply distance-based similarity measures (e.g., Euclidean distance, Jaccard similarity) or other techniques like k-nearest neighbors (KNN) for recommendations."
   ]
  },
  {
   "cell_type": "code",
   "execution_count": 24,
   "metadata": {},
   "outputs": [],
   "source": [
    "from sklearn.metrics.pairwise import euclidean_distances\n",
    "\n",
    "\n",
    "# Normalizing numerical columns\n",
    "df_normalized = df.copy()\n",
    "df_normalized['sold'] = (df['sold'] - df['sold'].min()) / (df['sold'].max() - df['sold'].min())\n",
    "df_normalized['price'] = (df['price'] - df['price'].min()) / (df['price'].max() - df['price'].min())\n",
    "df_normalized['discount'] = (df['discount'] - df['discount'].min()) / (df['discount'].max() - df['discount'].min())\n",
    "df_normalized['shop_rating'] = (df['shop_rating'] - df['shop_rating'].min()) / (df['shop_rating'].max() - df['shop_rating'].min())\n",
    "\n",
    "# Select features for similarity calculation\n",
    "features = df_normalized[['sold', 'price', 'discount', 'shop_rating']].values\n",
    "\n",
    "# Calculate pairwise similarity using Euclidean distance\n",
    "similarities = euclidean_distances(features, features)\n",
    "\n",
    "# Function to get recommendations based on item similarity\n",
    "def get_recommendations(item_id, similarities=similarities, df=df, top_n=5):\n",
    "    # Get the index of the item in the DataFrame\n",
    "    idx = df[df['name'] == item_id].index[0]\n",
    "    \n",
    "    # Get pairwise similarity scores with other items\n",
    "    sim_scores = list(enumerate(similarities[idx]))\n",
    "    \n",
    "    # Sort the items based on similarity scores\n",
    "    sim_scores = sorted(sim_scores, key=lambda x: x[1])\n",
    "    \n",
    "    # Get top N similar items (excluding the queried item itself)\n",
    "    sim_scores = sim_scores[1:top_n + 1]\n",
    "    \n",
    "    # Get indices of the top N similar items\n",
    "    item_indices = [i[0] for i in sim_scores]\n",
    "    \n",
    "    # Return the top N similar items\n",
    "    return df.iloc[item_indices]['name']\n"
   ]
  },
  {
   "cell_type": "code",
   "execution_count": 25,
   "metadata": {},
   "outputs": [
    {
     "name": "stdout",
     "output_type": "stream",
     "text": [
      "Recommendations:\n",
      "453    Quần Dài Ống Rộng Hoạ Tiết Gấp Gấu Quần Caro P...\n",
      "66     Áo khoác da croptop basic, áo khoác da nữ phon...\n",
      "103    ÁO CHỐNG NẮNG GÂN ĐŨA TO CÓ NÓN THỜI TRANG CAO...\n",
      "137    [Video, Ảnh Thật]Áo Khoác Nỉ Bông Thêu Hoodie ...\n",
      "80     Quần Jean Ống Loe Cạp Cao nữ màu Đen vải bò gi...\n",
      "Name: name, dtype: object\n"
     ]
    }
   ],
   "source": [
    "# Example: Get recommendations for 'Product1'\n",
    "recommendations = get_recommendations('Áo Sơ Mi Chất Nhung Tăm Nam Nữ Form Rộng Nâu Be Siêu Hot')\n",
    "print(\"Recommendations:\")\n",
    "print(recommendations)"
   ]
  },
  {
   "cell_type": "markdown",
   "metadata": {},
   "source": [
    "### Using KNN\n",
    "KNN with Euclidean distance is used to find the k nearest neighbors for each item based on their normalized attributes ('sold_quantity', 'price', 'discount', 'rating'). The get_recommendations_knn function retrieves the top similar items using KNN for a given item."
   ]
  },
  {
   "cell_type": "code",
   "execution_count": 28,
   "metadata": {},
   "outputs": [],
   "source": [
    "from sklearn.neighbors import NearestNeighbors\n",
    "\n",
    "# Initialize KNN model\n",
    "k = 3  # Number of neighbors\n",
    "knn_model = NearestNeighbors(n_neighbors=k, metric='euclidean')  # Using Euclidean distance\n",
    "\n",
    "\n",
    "# Fit the model\n",
    "knn_model.fit(features)\n",
    "\n",
    "# Function to get recommendations based on KNN\n",
    "def get_recommendations_knn(item_id, knn_model=knn_model, df=df, top_n=10):\n",
    "    # Get the index of the item in the DataFrame\n",
    "    idx = df[df['name'] == item_id].index[0]\n",
    "    \n",
    "    # Get distances and indices of k-nearest neighbors\n",
    "    distances, indices = knn_model.kneighbors([features[idx]])\n",
    "    \n",
    "    # Exclude the queried item itself from recommendations\n",
    "    neighbor_indices = indices[0][1:]  # Exclude the first index (self)\n",
    "    \n",
    "    # Get names of similar items\n",
    "    similar_items = df.iloc[neighbor_indices]['name']\n",
    "    \n",
    "    return similar_items.head(top_n)\n"
   ]
  },
  {
   "cell_type": "code",
   "execution_count": 29,
   "metadata": {},
   "outputs": [
    {
     "name": "stdout",
     "output_type": "stream",
     "text": [
      "Recommendations using KNN for 'Áo Sơ Mi Chất Nhung Tăm Nam Nữ Form Rộng Nâu Be Siêu Hot':\n",
      "453    Quần Dài Ống Rộng Hoạ Tiết Gấp Gấu Quần Caro P...\n",
      "66     Áo khoác da croptop basic, áo khoác da nữ phon...\n",
      "Name: name, dtype: object\n"
     ]
    }
   ],
   "source": [
    "# Example: Get recommendations using KNN for 'Product1'\n",
    "recommendations_knn = get_recommendations_knn('Áo Sơ Mi Chất Nhung Tăm Nam Nữ Form Rộng Nâu Be Siêu Hot')\n",
    "print(\"Recommendations using KNN for 'Áo Sơ Mi Chất Nhung Tăm Nam Nữ Form Rộng Nâu Be Siêu Hot':\")\n",
    "print(recommendations_knn)"
   ]
  },
  {
   "cell_type": "markdown",
   "metadata": {},
   "source": [
    "## Application for a bigger dataset"
   ]
  },
  {
   "cell_type": "code",
   "execution_count": 37,
   "metadata": {},
   "outputs": [],
   "source": [
    "\n",
    "from sklearn.model_selection import train_test_split\n",
    "\n",
    "# Split the dataset into train and test sets\n",
    "train_data, test_data = train_test_split(features, test_size=0.2, random_state=42)\n",
    "\n",
    "# Initialize KNN model\n",
    "k = 3  # Number of neighbors\n",
    "knn_model = NearestNeighbors(n_neighbors=k, metric='euclidean')  # Using Euclidean distance\n",
    "\n",
    "# Fit the model with training data\n",
    "knn_model.fit(train_data)\n",
    "\n",
    "# Get distances and indices of k-nearest neighbors for each test item\n",
    "distances, indices = knn_model.kneighbors(test_data)\n",
    "\n",
    "# The following line generates placeholder predictions based on test_data\n",
    "predicted_distances, predicted_indices = knn_model.kneighbors(test_data)\n",
    "\n",
    "# Function to get recommendations based on KNN\n",
    "def get_recommendations_knn(item_index, knn_model=knn_model, df=df, top_n=5):\n",
    "    # Get distances and indices of k-nearest neighbors\n",
    "    distances, indices = knn_model.kneighbors([test_data[item_index]])\n",
    "    \n",
    "    # Exclude the queried item itself from recommendations\n",
    "    neighbor_indices = indices[0][1:]  # Exclude the first index (self)\n",
    "    \n",
    "    # Get names of similar items\n",
    "    similar_items = df.iloc[neighbor_indices]['name']\n",
    "    \n",
    "    return similar_items.head(top_n)"
   ]
  },
  {
   "cell_type": "code",
   "execution_count": 36,
   "metadata": {},
   "outputs": [
    {
     "name": "stdout",
     "output_type": "stream",
     "text": [
      "Recommendations using KNN for test item 0:\n",
      "367    Quần Shorts Nữ Ống Loe, Quần Đùi Ống Rộng Thời...\n",
      "263    Quần Nỉ Nhung Tăm To Đôc Đáo Gemi Ống Rộng Dây...\n",
      "Name: name, dtype: object\n"
     ]
    }
   ],
   "source": [
    "test_item_index = 0  # Example index for test item\n",
    "recommendations_knn = get_recommendations_knn(test_item_index)\n",
    "print(f\"Recommendations using KNN for test item {test_item_index}:\")\n",
    "print(recommendations_knn)"
   ]
  },
  {
   "cell_type": "markdown",
   "metadata": {},
   "source": [
    "* Chossing the appropriate number of neighbors (k) in K-Nearest Neighbors (KNN)  is an important aspect that can impact the performance of the model in recommendation systems. \n",
    "* A smaller k tends to capture more local information but might be sensitive to noise, while a larger k might oversmooth and generalize too much.\n",
    "\n",
    "\n",
    "### Using the rule of Thumb\n",
    "We use the square root of the total number of items or a fraction of it.\n",
    "In details, the dataset have 5.000 items so we might choose k = sqrt(5000) = 70 or a smaller fraction like k = 50\n",
    "\n",
    "### Using Cross-validation\n",
    "Perform cross-validation with different values of k and evaluate the model's performance (e.g., using accuracy, RMSE, or other appropriate metrics). Choose the value of k that gives the best performance on the validation set."
   ]
  },
  {
   "cell_type": "markdown",
   "metadata": {},
   "source": [
    "## Evaluate model's performance"
   ]
  },
  {
   "cell_type": "code",
   "execution_count": 39,
   "metadata": {},
   "outputs": [
    {
     "name": "stdout",
     "output_type": "stream",
     "text": [
      "RMSE: 0.0\n"
     ]
    }
   ],
   "source": [
    "import numpy as np\n",
    "from sklearn.metrics import mean_squared_error\n",
    "\n",
    "# Calculate RMSE between predicted and actual values\n",
    "rmse = np.sqrt(mean_squared_error(distances, predicted_distances))\n",
    "print(f\"RMSE: {rmse}\")"
   ]
  }
 ],
 "metadata": {
  "kernelspec": {
   "display_name": "Python 3",
   "language": "python",
   "name": "python3"
  },
  "language_info": {
   "codemirror_mode": {
    "name": "ipython",
    "version": 3
   },
   "file_extension": ".py",
   "mimetype": "text/x-python",
   "name": "python",
   "nbconvert_exporter": "python",
   "pygments_lexer": "ipython3",
   "version": "3.10.6"
  }
 },
 "nbformat": 4,
 "nbformat_minor": 2
}
